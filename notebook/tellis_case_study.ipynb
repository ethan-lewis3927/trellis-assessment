{
  "cells": [
    {
      "cell_type": "code",
      "execution_count": 7,
      "metadata": {
        "colab": {
          "base_uri": "https://localhost:8080/"
        },
        "id": "LnNHhnO2pAJo",
        "outputId": "a0695595-6b79-4cd1-d8f3-b825b436c2ab"
      },
      "outputs": [],
      "source": [
        "import pandas as pd\n",
        "import numpy as np"
      ]
    },
    {
      "cell_type": "markdown",
      "metadata": {
        "id": "D26UlQqFsuwj"
      },
      "source": [
        "# Read in Data"
      ]
    },
    {
      "cell_type": "code",
      "execution_count": 8,
      "metadata": {
        "id": "N9mmLn7ipZKe"
      },
      "outputs": [],
      "source": [
        "# Read Data, and save to dataframe\n",
        "import os\n",
        "\n",
        "# List of directories\n",
        "directories = ['business', 'entertainment', 'food', 'graphics', 'historical', 'medical', 'other', 'politics', 'space', 'sport', 'technologie']\n",
        "\n",
        "base_path = 'trellis_assessment_ds'\n",
        "\n",
        "# Initialize an empty list to store the data\n",
        "data = []\n",
        "\n",
        "# Iterate over each directory\n",
        "for category in directories:\n",
        "    directory_path = os.path.join(base_path, category)\n",
        "    # Iterate over each file in the directory\n",
        "    for filename in os.listdir(directory_path):\n",
        "        if filename.endswith('.txt'):\n",
        "            file_path = os.path.join(directory_path, filename)\n",
        "            with open(file_path, 'r') as file:\n",
        "                text = file.read()\n",
        "                data.append({'text': text, 'category': category})\n",
        "\n",
        "# Convert the list to a pandas DataFrame\n",
        "df = pd.DataFrame(data, columns=['text', 'category'])\n",
        "\n",
        "# Drop Other\n",
        "# Identify rows where 'category' contains the word \"other\"\n",
        "rows_to_drop = df['category'].str.contains(\"other\")\n",
        "\n",
        "# Save these rows to another DataFrame\n",
        "df_other = df[rows_to_drop].copy()\n",
        "\n",
        "# Drop the identified rows from the original DataFrame\n",
        "df = df[~rows_to_drop]"
      ]
    },
    {
      "cell_type": "code",
      "execution_count": 9,
      "metadata": {
        "colab": {
          "base_uri": "https://localhost:8080/",
          "height": 423
        },
        "id": "FWhHCwbNr2qE",
        "outputId": "f78a7123-eca2-4720-8b58-58b8e105173a"
      },
      "outputs": [
        {
          "data": {
            "text/html": [
              "<div>\n",
              "<style scoped>\n",
              "    .dataframe tbody tr th:only-of-type {\n",
              "        vertical-align: middle;\n",
              "    }\n",
              "\n",
              "    .dataframe tbody tr th {\n",
              "        vertical-align: top;\n",
              "    }\n",
              "\n",
              "    .dataframe thead th {\n",
              "        text-align: right;\n",
              "    }\n",
              "</style>\n",
              "<table border=\"1\" class=\"dataframe\">\n",
              "  <thead>\n",
              "    <tr style=\"text-align: right;\">\n",
              "      <th></th>\n",
              "      <th>text</th>\n",
              "      <th>category</th>\n",
              "    </tr>\n",
              "  </thead>\n",
              "  <tbody>\n",
              "    <tr>\n",
              "      <th>0</th>\n",
              "      <td>Christmas shoppers flock to tills\\n\\nShops all...</td>\n",
              "      <td>business</td>\n",
              "    </tr>\n",
              "    <tr>\n",
              "      <th>1</th>\n",
              "      <td>Record year for Chilean copper\\n\\nChile's copp...</td>\n",
              "      <td>business</td>\n",
              "    </tr>\n",
              "    <tr>\n",
              "      <th>2</th>\n",
              "      <td>Jarvis sells Tube stake to Spain\\n\\nShares in ...</td>\n",
              "      <td>business</td>\n",
              "    </tr>\n",
              "    <tr>\n",
              "      <th>3</th>\n",
              "      <td>Battered dollar hits another low\\n\\nThe dollar...</td>\n",
              "      <td>business</td>\n",
              "    </tr>\n",
              "    <tr>\n",
              "      <th>4</th>\n",
              "      <td>US consumer confidence up\\n\\nConsumers' confid...</td>\n",
              "      <td>business</td>\n",
              "    </tr>\n",
              "    <tr>\n",
              "      <th>...</th>\n",
              "      <td>...</td>\n",
              "      <td>...</td>\n",
              "    </tr>\n",
              "    <tr>\n",
              "      <th>1001</th>\n",
              "      <td>Yahoo celebrates a decade online\\n\\nYahoo, one...</td>\n",
              "      <td>technologie</td>\n",
              "    </tr>\n",
              "    <tr>\n",
              "      <th>1002</th>\n",
              "      <td>Spam e-mails tempt net shoppers\\n\\nComputer us...</td>\n",
              "      <td>technologie</td>\n",
              "    </tr>\n",
              "    <tr>\n",
              "      <th>1003</th>\n",
              "      <td>iPhone SE vs. iPhone X: Don't buy that refurbi...</td>\n",
              "      <td>technologie</td>\n",
              "    </tr>\n",
              "    <tr>\n",
              "      <th>1004</th>\n",
              "      <td>Looks and music to drive mobiles\\n\\nMobile pho...</td>\n",
              "      <td>technologie</td>\n",
              "    </tr>\n",
              "    <tr>\n",
              "      <th>1005</th>\n",
              "      <td>BT boosts its broadband packages\\n\\nBritish Te...</td>\n",
              "      <td>technologie</td>\n",
              "    </tr>\n",
              "  </tbody>\n",
              "</table>\n",
              "<p>1000 rows × 2 columns</p>\n",
              "</div>"
            ],
            "text/plain": [
              "                                                   text     category\n",
              "0     Christmas shoppers flock to tills\\n\\nShops all...     business\n",
              "1     Record year for Chilean copper\\n\\nChile's copp...     business\n",
              "2     Jarvis sells Tube stake to Spain\\n\\nShares in ...     business\n",
              "3     Battered dollar hits another low\\n\\nThe dollar...     business\n",
              "4     US consumer confidence up\\n\\nConsumers' confid...     business\n",
              "...                                                 ...          ...\n",
              "1001  Yahoo celebrates a decade online\\n\\nYahoo, one...  technologie\n",
              "1002  Spam e-mails tempt net shoppers\\n\\nComputer us...  technologie\n",
              "1003  iPhone SE vs. iPhone X: Don't buy that refurbi...  technologie\n",
              "1004  Looks and music to drive mobiles\\n\\nMobile pho...  technologie\n",
              "1005  BT boosts its broadband packages\\n\\nBritish Te...  technologie\n",
              "\n",
              "[1000 rows x 2 columns]"
            ]
          },
          "execution_count": 9,
          "metadata": {},
          "output_type": "execute_result"
        }
      ],
      "source": [
        "df"
      ]
    },
    {
      "cell_type": "code",
      "execution_count": 10,
      "metadata": {
        "colab": {
          "base_uri": "https://localhost:8080/"
        },
        "id": "FGq2-t4Lr4Ks",
        "outputId": "7d0d3124-2622-4c72-c055-74df31f878e3"
      },
      "outputs": [
        {
          "data": {
            "text/plain": [
              "category\n",
              "business         100\n",
              "entertainment    100\n",
              "food             100\n",
              "graphics         100\n",
              "historical       100\n",
              "medical          100\n",
              "politics         100\n",
              "space            100\n",
              "sport            100\n",
              "technologie      100\n",
              "Name: count, dtype: int64"
            ]
          },
          "execution_count": 10,
          "metadata": {},
          "output_type": "execute_result"
        }
      ],
      "source": [
        "# Ensure all of the data was gathered\n",
        "df.category.value_counts()"
      ]
    },
    {
      "cell_type": "markdown",
      "metadata": {
        "id": "pQGwcGcwsp9t"
      },
      "source": [
        "# Preprocess Data"
      ]
    },
    {
      "cell_type": "code",
      "execution_count": 54,
      "metadata": {
        "colab": {
          "base_uri": "https://localhost:8080/"
        },
        "id": "www-yOwjr6jj",
        "outputId": "a1289a4c-a51e-4fd6-ef14-d4bbeb8a5434"
      },
      "outputs": [],
      "source": [
        "\"\"\"\n",
        "Code below is to preprocess the text data. All the text data will be converted to lowercase, special characters will be removed, and stop words will be removed.\n",
        "\n",
        "Lemmatization and stemming were explored but found not useful in improving model performance.\n",
        "\"\"\"\n",
        "\n",
        "import re\n",
        "import nltk\n",
        "from nltk.corpus import stopwords\n",
        "\n",
        "# Initialize stop words\n",
        "stop_words = set(stopwords.words('english'))\n",
        "\n",
        "# Function to preprocess text\n",
        "def preprocess_text(text):\n",
        "    # Remove special characters\n",
        "    text = re.sub(r'[^a-zA-Z0-9\\s]', '', text)\n",
        "\n",
        "    # Convert to lowercase\n",
        "    text = text.lower()\n",
        "\n",
        "    # Tokenize the text\n",
        "    words = nltk.word_tokenize(text)\n",
        "\n",
        "    # Remove stop words\n",
        "    words = [word for word in words if word not in stop_words]\n",
        "\n",
        "    # Join words back into a single string\n",
        "    return ' '.join(words)\n",
        "\n",
        "\n",
        "df['processed_text'] = df['text'].apply(preprocess_text)"
      ]
    },
    {
      "cell_type": "code",
      "execution_count": 55,
      "metadata": {
        "colab": {
          "base_uri": "https://localhost:8080/",
          "height": 87
        },
        "id": "vVch6lvqtHWq",
        "outputId": "73c6d8d2-3be3-4040-f837-c07b2e1f4fcd"
      },
      "outputs": [
        {
          "data": {
            "text/plain": [
              "'Christmas shoppers flock to tills\\n\\nShops all over the UK reported strong sales on the last Saturday before Christmas with some claiming record-breaking numbers of festive shoppers.\\n\\nA spokesman for Manchester\\'s Trafford Centre said it was \"the biggest Christmas to date\" with sales up 5%. And the Regent Street Association said shops in central London were also expecting the \"best Christmas ever\". That picture comes despite reports of disappointing festive sales in the last couple of weeks.\\n\\nThe Trafford Centre spokeswoman said about 8,500 thousand vehicles had arrived at the centre on Saturday before 1130 GMT. \"We predict that the next week will continue the same trend,\" she added.\\n\\nIt was a similar story at Bluewater in Kent. Spokesman Alan Jones said he expected 150,000 shoppers to have visited by the end of Saturday and a further 100,000 on Sunday. \"Our sales so far have been 2% up on the same time last year,\" he said. \"We\\'re very busy, it\\'s really strong and people will be shopping right up until Christmas. \"Over the Christmas period we\\'re expecting people to spend in excess of £200m at the centre.\"\\n\\nOn Saturday afternoon, a spokeswoman for the St David\\'s Shopping Centre in Cardiff said it looked like being its busiest day of the year with about 200,000 shoppers expected to have visited by the close of play. At the St Enoch\\'s Shopping Centre in Glasgow, more than 140,000 shoppers - an all-time record - were expected to have passed through the doors by its closing time of 1900 GMT. Senior business manager Jon Walton said: \"It has been phenomenal - absolutely mobbed. \"Every week footfall has been showing strong growth and at the weekends it has been going mad.\" Regent Street Association director Annie Walker said on Saturday: \"The stores were heaving today and a lot of people are going to be doing last minute shopping as many people finished work on Friday and can go in the week.\"\\n\\nShe said reports of a slump in pre-Christmas sales were related to the growing popularity of internet sales. \"I do think this has had a lot to do with reports of lower sales figures,\" she said. \"Internet shopping has gone up enormously and not all stores have websites.\"\\n'"
            ]
          },
          "execution_count": 55,
          "metadata": {},
          "output_type": "execute_result"
        }
      ],
      "source": [
        "df['text'][0]"
      ]
    },
    {
      "cell_type": "code",
      "execution_count": 56,
      "metadata": {
        "colab": {
          "base_uri": "https://localhost:8080/",
          "height": 87
        },
        "id": "9Z6mIJpPtDcl",
        "outputId": "fbcc898d-06e2-4530-8623-2f0eee19917e"
      },
      "outputs": [
        {
          "data": {
            "text/plain": [
              "'christmas shoppers flock tills shops uk reported strong sales last saturday christmas claiming recordbreaking numbers festive shoppers spokesman manchesters trafford centre said biggest christmas date sales 5 regent street association said shops central london also expecting best christmas ever picture comes despite reports disappointing festive sales last couple weeks trafford centre spokeswoman said 8500 thousand vehicles arrived centre saturday 1130 gmt predict next week continue trend added similar story bluewater kent spokesman alan jones said expected 150000 shoppers visited end saturday 100000 sunday sales far 2 time last year said busy really strong people shopping right christmas christmas period expecting people spend excess 200m centre saturday afternoon spokeswoman st davids shopping centre cardiff said looked like busiest day year 200000 shoppers expected visited close play st enochs shopping centre glasgow 140000 shoppers alltime record expected passed doors closing time 1900 gmt senior business manager jon walton said phenomenal absolutely mobbed every week footfall showing strong growth weekends going mad regent street association director annie walker said saturday stores heaving today lot people going last minute shopping many people finished work friday go week said reports slump prechristmas sales related growing popularity internet sales think lot reports lower sales figures said internet shopping gone enormously stores websites'"
            ]
          },
          "execution_count": 56,
          "metadata": {},
          "output_type": "execute_result"
        }
      ],
      "source": [
        "df['processed_text'][0]"
      ]
    },
    {
      "cell_type": "code",
      "execution_count": 57,
      "metadata": {},
      "outputs": [
        {
          "data": {
            "text/html": [
              "<div>\n",
              "<style scoped>\n",
              "    .dataframe tbody tr th:only-of-type {\n",
              "        vertical-align: middle;\n",
              "    }\n",
              "\n",
              "    .dataframe tbody tr th {\n",
              "        vertical-align: top;\n",
              "    }\n",
              "\n",
              "    .dataframe thead th {\n",
              "        text-align: right;\n",
              "    }\n",
              "</style>\n",
              "<table border=\"1\" class=\"dataframe\">\n",
              "  <thead>\n",
              "    <tr style=\"text-align: right;\">\n",
              "      <th></th>\n",
              "      <th>text</th>\n",
              "      <th>category</th>\n",
              "      <th>processed_text</th>\n",
              "      <th>index</th>\n",
              "      <th>label</th>\n",
              "    </tr>\n",
              "  </thead>\n",
              "  <tbody>\n",
              "    <tr>\n",
              "      <th>0</th>\n",
              "      <td>Christmas shoppers flock to tills\\n\\nShops all...</td>\n",
              "      <td>business</td>\n",
              "      <td>christmas shoppers flock tills shops uk report...</td>\n",
              "      <td>0</td>\n",
              "      <td>0</td>\n",
              "    </tr>\n",
              "    <tr>\n",
              "      <th>1</th>\n",
              "      <td>Record year for Chilean copper\\n\\nChile's copp...</td>\n",
              "      <td>business</td>\n",
              "      <td>record year chilean copper chiles copper indus...</td>\n",
              "      <td>1</td>\n",
              "      <td>0</td>\n",
              "    </tr>\n",
              "    <tr>\n",
              "      <th>2</th>\n",
              "      <td>Jarvis sells Tube stake to Spain\\n\\nShares in ...</td>\n",
              "      <td>business</td>\n",
              "      <td>jarvis sells tube stake spain shares engineeri...</td>\n",
              "      <td>2</td>\n",
              "      <td>0</td>\n",
              "    </tr>\n",
              "    <tr>\n",
              "      <th>3</th>\n",
              "      <td>Battered dollar hits another low\\n\\nThe dollar...</td>\n",
              "      <td>business</td>\n",
              "      <td>battered dollar hits another low dollar fallen...</td>\n",
              "      <td>3</td>\n",
              "      <td>0</td>\n",
              "    </tr>\n",
              "    <tr>\n",
              "      <th>4</th>\n",
              "      <td>US consumer confidence up\\n\\nConsumers' confid...</td>\n",
              "      <td>business</td>\n",
              "      <td>us consumer confidence consumers confidence st...</td>\n",
              "      <td>4</td>\n",
              "      <td>0</td>\n",
              "    </tr>\n",
              "    <tr>\n",
              "      <th>...</th>\n",
              "      <td>...</td>\n",
              "      <td>...</td>\n",
              "      <td>...</td>\n",
              "      <td>...</td>\n",
              "      <td>...</td>\n",
              "    </tr>\n",
              "    <tr>\n",
              "      <th>995</th>\n",
              "      <td>Yahoo celebrates a decade online\\n\\nYahoo, one...</td>\n",
              "      <td>technologie</td>\n",
              "      <td>yahoo celebrates decade online yahoo one nets ...</td>\n",
              "      <td>995</td>\n",
              "      <td>9</td>\n",
              "    </tr>\n",
              "    <tr>\n",
              "      <th>996</th>\n",
              "      <td>Spam e-mails tempt net shoppers\\n\\nComputer us...</td>\n",
              "      <td>technologie</td>\n",
              "      <td>spam emails tempt net shoppers computer users ...</td>\n",
              "      <td>996</td>\n",
              "      <td>9</td>\n",
              "    </tr>\n",
              "    <tr>\n",
              "      <th>997</th>\n",
              "      <td>iPhone SE vs. iPhone X: Don't buy that refurbi...</td>\n",
              "      <td>technologie</td>\n",
              "      <td>iphone se vs iphone x dont buy refurbished pho...</td>\n",
              "      <td>997</td>\n",
              "      <td>9</td>\n",
              "    </tr>\n",
              "    <tr>\n",
              "      <th>998</th>\n",
              "      <td>Looks and music to drive mobiles\\n\\nMobile pho...</td>\n",
              "      <td>technologie</td>\n",
              "      <td>looks music drive mobiles mobile phones still ...</td>\n",
              "      <td>998</td>\n",
              "      <td>9</td>\n",
              "    </tr>\n",
              "    <tr>\n",
              "      <th>999</th>\n",
              "      <td>BT boosts its broadband packages\\n\\nBritish Te...</td>\n",
              "      <td>technologie</td>\n",
              "      <td>bt boosts broadband packages british telecom s...</td>\n",
              "      <td>999</td>\n",
              "      <td>9</td>\n",
              "    </tr>\n",
              "  </tbody>\n",
              "</table>\n",
              "<p>1000 rows × 5 columns</p>\n",
              "</div>"
            ],
            "text/plain": [
              "                                                  text     category  \\\n",
              "0    Christmas shoppers flock to tills\\n\\nShops all...     business   \n",
              "1    Record year for Chilean copper\\n\\nChile's copp...     business   \n",
              "2    Jarvis sells Tube stake to Spain\\n\\nShares in ...     business   \n",
              "3    Battered dollar hits another low\\n\\nThe dollar...     business   \n",
              "4    US consumer confidence up\\n\\nConsumers' confid...     business   \n",
              "..                                                 ...          ...   \n",
              "995  Yahoo celebrates a decade online\\n\\nYahoo, one...  technologie   \n",
              "996  Spam e-mails tempt net shoppers\\n\\nComputer us...  technologie   \n",
              "997  iPhone SE vs. iPhone X: Don't buy that refurbi...  technologie   \n",
              "998  Looks and music to drive mobiles\\n\\nMobile pho...  technologie   \n",
              "999  BT boosts its broadband packages\\n\\nBritish Te...  technologie   \n",
              "\n",
              "                                        processed_text  index  label  \n",
              "0    christmas shoppers flock tills shops uk report...      0      0  \n",
              "1    record year chilean copper chiles copper indus...      1      0  \n",
              "2    jarvis sells tube stake spain shares engineeri...      2      0  \n",
              "3    battered dollar hits another low dollar fallen...      3      0  \n",
              "4    us consumer confidence consumers confidence st...      4      0  \n",
              "..                                                 ...    ...    ...  \n",
              "995  yahoo celebrates decade online yahoo one nets ...    995      9  \n",
              "996  spam emails tempt net shoppers computer users ...    996      9  \n",
              "997  iphone se vs iphone x dont buy refurbished pho...    997      9  \n",
              "998  looks music drive mobiles mobile phones still ...    998      9  \n",
              "999  bt boosts broadband packages british telecom s...    999      9  \n",
              "\n",
              "[1000 rows x 5 columns]"
            ]
          },
          "execution_count": 57,
          "metadata": {},
          "output_type": "execute_result"
        }
      ],
      "source": [
        "df"
      ]
    },
    {
      "cell_type": "markdown",
      "metadata": {
        "id": "Fe1wikNRt694"
      },
      "source": [
        "# Modeling"
      ]
    },
    {
      "cell_type": "code",
      "execution_count": 76,
      "metadata": {
        "colab": {
          "base_uri": "https://localhost:8080/"
        },
        "id": "rYusNFmUt9Gz",
        "outputId": "290aa599-be73-4ef0-bb22-3aee419d9e7f"
      },
      "outputs": [
        {
          "name": "stdout",
          "output_type": "stream",
          "text": [
            "               precision    recall  f1-score   support\n",
            "\n",
            "     business       1.00      0.85      0.92        13\n",
            "entertainment       1.00      1.00      1.00        20\n",
            "         food       1.00      0.96      0.98        23\n",
            "     graphics       0.96      1.00      0.98        23\n",
            "   historical       1.00      1.00      1.00        18\n",
            "      medical       0.97      1.00      0.98        30\n",
            "     politics       0.90      1.00      0.95        18\n",
            "        space       1.00      1.00      1.00        16\n",
            "        sport       1.00      1.00      1.00        21\n",
            "  technologie       1.00      0.94      0.97        18\n",
            "\n",
            "     accuracy                           0.98       200\n",
            "    macro avg       0.98      0.97      0.98       200\n",
            " weighted avg       0.98      0.98      0.98       200\n",
            "\n"
          ]
        }
      ],
      "source": [
        "\"\"\"\n",
        "The data fed into the model passed through a TF-IDF vectorizer. This vectorizer converts the text data into a matrix of TF-IDF features.\n",
        "X = (1000, 32540) -> 32540 unique (words, terms, tokens) accross entire dataset. The value in each cell is the TF-IDF score for a particular term in a particular document.\n",
        "y = (1000,) -> labels of the dataset\n",
        "\n",
        "Due to the slight imbalance in the dataset, the class_weight parameter was set to 'balanced' in the Logistic Regression model. This will help the model to give more weight to the minority class.\n",
        "\n",
        "After exploring many types of models (Logistic Regression, Naive Bayes, SVM, Random Forest, etc.), Logistic Regression was found to be the best model for this dataset. \n",
        "Logistic Reg was found to have equal performance to SVM's and even a BERT transformer model. The simplicity of the model and the speed of training made it the best choice for this dataset.\n",
        "\n",
        "Train and test split was done with 80% of the data used for training and 20% for testing. This is a common split and adequate for the size of this dataset. \n",
        "If this dataset was larger (100k+), a 90/10 or even 95/5 split would be more appropriate.\n",
        "\n",
        "The model was found to have an a F1-score, precision, and recall of 0.98. This seemed like an acceptable accuracy for this dataset.\n",
        "\"\"\"\n",
        "\n",
        "from sklearn.feature_extraction.text import TfidfVectorizer\n",
        "from sklearn.model_selection import train_test_split\n",
        "from sklearn.linear_model import LogisticRegression\n",
        "from sklearn.metrics import classification_report\n",
        "\n",
        "# Text vectorization\n",
        "vectorizer = TfidfVectorizer(stop_words='english')\n",
        "X = vectorizer.fit_transform(df['processed_text'])\n",
        "y = df['category']\n",
        "\n",
        "# Split data\n",
        "X_train, X_val, y_train, y_val = train_test_split(X, y, test_size=0.2, random_state=43)\n",
        "\n",
        "# Train model\n",
        "model = LogisticRegression(max_iter=1000, class_weight = 'balanced')\n",
        "model.fit(X_train, y_train)\n",
        "\n",
        "# Evaluate model\n",
        "y_pred = model.predict(X_val)\n",
        "print(classification_report(y_val, y_pred))"
      ]
    },
    {
      "cell_type": "code",
      "execution_count": 86,
      "metadata": {
        "colab": {
          "base_uri": "https://localhost:8080/"
        },
        "collapsed": true,
        "id": "P2Ki5crr1J1m",
        "outputId": "2adf7891-3c59-4894-a2ad-e6e15316bbfd"
      },
      "outputs": [
        {
          "name": "stdout",
          "output_type": "stream",
          "text": [
            "Log Reg Model with 'other' class:\n",
            "               precision    recall  f1-score   support\n",
            "\n",
            "     business       1.00      1.00      1.00        20\n",
            "entertainment       1.00      1.00      1.00        13\n",
            "         food       1.00      1.00      1.00        27\n",
            "     graphics       0.91      0.95      0.93        21\n",
            "   historical       1.00      1.00      1.00        15\n",
            "      medical       0.96      1.00      0.98        22\n",
            "     politics       1.00      1.00      1.00        25\n",
            "        space       1.00      0.85      0.92        13\n",
            "        sport       1.00      1.00      1.00        23\n",
            "  technologie       1.00      0.90      0.95        21\n",
            "        other       0.00      0.00      0.00         0\n",
            "\n",
            "     accuracy                           0.97       200\n",
            "    macro avg       0.90      0.88      0.89       200\n",
            " weighted avg       0.99      0.97      0.98       200\n",
            "\n"
          ]
        }
      ],
      "source": [
        "\"\"\"\n",
        "The code below is a more complete training and evaluation of the model. The model is trained with calibrated probabilities to account for the 'other' class as required in the assement.\n",
        "\n",
        "In this training a LabelEncoder is used to encode the labels of the dataset numerically. \n",
        "\n",
        "The indices of the dataset are save when dataset is split into train / test to view and analyze later\n",
        "\n",
        "A CalibratedClassifierCV is used to pull out probabilities from the model. This is used to evaluate account for the 'other' class by setting a confidence threshold. \n",
        "A confidence threshold is set to 0.35, so that if the top probability of a prediction is lower than 0.35, the prediction is set to 'other'. \n",
        "0.35 was found to be the best threshold after testing the confidence using examples from the 'other' directory.\n",
        "\n",
        "\"\"\"\n",
        "from sklearn.calibration import CalibratedClassifierCV\n",
        "from sklearn.preprocessing import LabelEncoder\n",
        "\n",
        "# Add an index column\n",
        "df['index'] = df.index\n",
        "\n",
        "# Reset the index of the DataFrame\n",
        "df.reset_index(drop=True, inplace=True)\n",
        "\n",
        "# Encode labels\n",
        "label_encoder = LabelEncoder()\n",
        "df['label'] = label_encoder.fit_transform(df['category'])\n",
        "num_labels = len(label_encoder.classes_)\n",
        "indices = df['index']\n",
        "\n",
        "# Text vectorization\n",
        "vectorizer = TfidfVectorizer(stop_words='english')\n",
        "X = vectorizer.fit_transform(df['text'])\n",
        "y = df['label']\n",
        "\n",
        "# Split data\n",
        "X_train, X_val, y_train, y_val, indices_train, indices_val = train_test_split(X, y, indices, test_size=0.2, random_state=42)\n",
        "\n",
        "# Train SVM model with calibrated probabilities\n",
        "log_reg_model = LogisticRegression(max_iter=1000, class_weight = 'balanced')\n",
        "log_reg_model.fit(X_train, y_train)\n",
        "calibrated_log_reg = CalibratedClassifierCV(log_reg_model, cv='prefit')\n",
        "calibrated_log_reg.fit(X_train, y_train)\n",
        "\n",
        "# Evaluate model\n",
        "y_proba = calibrated_log_reg.predict_proba(X_val)\n",
        "y_pred_log_reg = np.argmax(y_proba, axis=1)\n",
        "\n",
        "# Set a confidence threshold\n",
        "confidence_threshold = 0.35\n",
        "y_pred_with_other = []\n",
        "for i, proba in enumerate(y_proba):\n",
        "    max_proba = np.max(proba)\n",
        "    if max_proba < confidence_threshold:\n",
        "        y_pred_with_other.append(num_labels)  # Assign 'other' class\n",
        "    else:\n",
        "        y_pred_with_other.append(y_pred_log_reg[i])\n",
        "\n",
        "# Add 'other' to label encoder\n",
        "class_names = list(label_encoder.classes_) + ['other']\n",
        "print(\"Log Reg Model with 'other' class:\")\n",
        "print(classification_report(y_val, y_pred_with_other, target_names=class_names, zero_division = 0.0))\n"
      ]
    },
    {
      "cell_type": "code",
      "execution_count": 87,
      "metadata": {
        "colab": {
          "base_uri": "https://localhost:8080/"
        },
        "id": "yeYqCU9eLiDd",
        "outputId": "88e7704f-b6ee-4aea-ee90-3b6aba9c15da"
      },
      "outputs": [
        {
          "name": "stdout",
          "output_type": "stream",
          "text": [
            "index:  328\n",
            "description:  hello looking add voice input capability user interface developing hp730 unix workstation would greatly appreciate information anyone would care offer voice input systems easily accessible unix environment names adresses applicable vendors well experiences specific systems would helpful please respond via email post summary sufficient interest thanks ken ps found several impressive systems ibm pcs would like avoid hassle purchasing maintaining separate pc possible ken hinckley kph2qvirginiaedu university virginia neurosurgical visualization laboratory\n",
            "true class:  graphics\n",
            "pred class:  medical\n",
            "\n",
            "\n",
            "index:  764\n",
            "description:  anyone know size cold gas roll control thruster tanks sounding rockets thanks advance jim\n",
            "true class:  space\n",
            "pred class:  graphics\n",
            "\n",
            "\n",
            "index:  917\n",
            "description:  2021 acura tlx vs audi a4 bmw 330i mercedes c300 volvo s60 awd sedans stack battle premium allwheel drive sedans heats debut acuras updated tlx acura tlx certainly fans years predecessors struggled legitimacy established premium european competition new 2021 tlx officially debuted thursday aims change sharp physicality promising pair turbocharged engine options lets see acuras new sport sedan stacks premium competition usual suspects audis newly announced 2021 a4 bmw 330i mercedesbenz c300 also including volvo s60 another underdog class like audi volvo 2021 tlx features standard frontwheel drive bimmer benz send power rear five sedans available optional allwheeldrive well looking configurations level playing field powertrain upcoming tlx type certainly exciting 30liter turbo v6 acura hasnt yet announced details specs model well circle back comparo later lets focus standard powertrain 20liter turbocharged fourcylinder mated 10speed automatic transmission vtec turbo engine found acuras rdx crossover 272 horsepower 280 poundfeet torque presumably lighter chassis feel responsive tlx claims highest horsepower core competitive set according acura technically thats true a4 3 series c300 members around250horsepower club however allwheeldrive comparison look volvo s60 t6 awd supercharged turbocharged engine raises bar 316 ponies youre feeling need speed maybe check swede acura stated fuel economy estimates newgeneration tlx make educated guess based rdxs numbers crossover good 21 city 27 highway 23 combined miles per gallon sedans presumably lighter chassis expect slightly better numbers itll need extra efficiency ascend previous spot near bottom pile volvo s60 powerful bunch least efficient competitor 21 city mpg 32 highway mpg 25 mpg combined still better 2019 tlx slightly better mercedesbenz c300 26 combined mpg audi hasnt released numbers 2021 a4 dont think itll far 2020 models 27 combined mpg current king hill bmw 330i xdrive 25 city 34 highway 28 combined mpg frankly dont think acura beat tlx manages land middle pack itll still solid step last year tlxs new look based type concept wrapped around new platform longer wider wheelbase also stretches 1130 inches gain 37 inches interestingly roof sits 06inch lower 564 last year contributes wide low look tlx longest model roundup measuring 7 inches longer next longest audi a4 10 inches longer cclass acuras 113inch wheelbase also one longest class acuras tlx long straddled size spectrum compact sedans midsize counterparts 135 cubic feet trunk space tlx lands right middle pack bmw biggest boot bunch 17 cubic feet s60 drivers make 116 cubes interestingly volvo broadest sedan 803 inches 5 inches wider acura wide bois thing youre\n",
            "true class:  technologie\n",
            "pred class:  other\n",
            "\n",
            "\n",
            "index:  978\n",
            "description:  startup deploying ai chatbots conversational memory natural exchanges topicsartificial intelligencecsailmachine learningmit zach winn massachusetts institute technology may 22 2020 startup posh created chat bots use conversational memory natural exchanges comedian bill burr said refuses call automated customer service lines fear years later death bed hell able think moments wasted dealing chatbots\n",
            "true class:  technologie\n",
            "pred class:  other\n",
            "\n",
            "\n",
            "index:  713\n",
            "description:  osculating elements perigee orbit need convert something useful preferably distance earth evenly spaced time intervals gsm coordinate system preferable convert systems c pascal fortran code point book something thatd great heres first lines file thanks advance larry kepko lkepkoigppuclaedu\n",
            "true class:  space\n",
            "pred class:  graphics\n",
            "\n",
            "\n"
          ]
        }
      ],
      "source": [
        "\"\"\"\n",
        "The code below prints the examples of the misclassified data. This is useful to see what the model is getting wrong and if there is a pattern in the misclassified data.\n",
        "\"\"\"\n",
        "\n",
        "misclassified_indices = np.where(y_val != y_pred_with_other)[0]\n",
        "misclassified_texts = [df.iloc[idx]['text'] for idx in misclassified_indices]\n",
        "\n",
        "class_names = list(label_encoder.classes_) + ['other']\n",
        "\n",
        "for pos in misclassified_indices:\n",
        "    # Get the original index from the validation set indices\n",
        "    index = indices_val.iloc[pos]\n",
        "\n",
        "    print('index: ', index)\n",
        "    print('description: ', df.iloc[index]['processed_text'])\n",
        "    print('true class: ', df.iloc[index]['category'])\n",
        "    print('pred class: ', class_names[y_pred_with_other[pos]])\n",
        "    print('\\n')\n"
      ]
    },
    {
      "cell_type": "code",
      "execution_count": 88,
      "metadata": {
        "colab": {
          "base_uri": "https://localhost:8080/",
          "height": 804
        },
        "id": "-cR6cfrA3nP9",
        "outputId": "6df7022e-27e9-43da-d128-fc7a1421f2a1"
      },
      "outputs": [
        {
          "data": {
            "image/png": "[encoded data removed]",
            "text/plain": [
              "<Figure size 1000x800 with 2 Axes>"
            ]
          },
          "metadata": {},
          "output_type": "display_data"
        }
      ],
      "source": [
        "\"\"\"\n",
        "Confusion matrix below is a visual representations of missclassified data. This is useful to see if there is a pattern in the misclassified data.\n",
        "\"\"\"\n",
        "from sklearn.metrics import classification_report, confusion_matrix\n",
        "import matplotlib.pyplot as plt\n",
        "import seaborn as sns\n",
        "\n",
        "# Compute confusion matrix\n",
        "conf_matrix = confusion_matrix(y_val, y_pred_with_other)\n",
        "\n",
        "# Plot confusion matrix\n",
        "plt.figure(figsize=(10, 8))\n",
        "sns.heatmap(conf_matrix, annot=True, fmt='d', cmap='Blues', xticklabels=class_names, yticklabels=class_names)\n",
        "plt.xlabel('Predicted')\n",
        "plt.ylabel('True')\n",
        "plt.title('Confusion Matrix')\n",
        "plt.show()"
      ]
    },
    {
      "cell_type": "code",
      "execution_count": 85,
      "metadata": {},
      "outputs": [
        {
          "name": "stdout",
          "output_type": "stream",
          "text": [
            "Log Reg Model with 'other' class:\n",
            "               precision    recall  f1-score   support\n",
            "\n",
            "     business       1.00      0.91      0.95       100\n",
            "entertainment       0.99      1.00      1.00       100\n",
            "         food       0.99      0.98      0.98       100\n",
            "     graphics       0.96      0.96      0.96       100\n",
            "   historical       0.99      0.99      0.99       100\n",
            "      medical       0.95      0.96      0.96       100\n",
            "     politics       0.94      0.99      0.97       100\n",
            "        space       0.97      0.91      0.94       100\n",
            "        sport       1.00      1.00      1.00       100\n",
            "  technologie       0.99      0.95      0.97       100\n",
            "        other       0.00      0.00      0.00         0\n",
            "\n",
            "     accuracy                           0.96      1000\n",
            "    macro avg       0.89      0.88      0.88      1000\n",
            " weighted avg       0.98      0.96      0.97      1000\n",
            "\n"
          ]
        }
      ],
      "source": [
        "\"\"\"\n",
        "Code below is identical to the training code a few cells above, except it uses Stratified K-Fold Cross Validation to evaluate the model's robustness across the dataset.\n",
        "\n",
        "We can see that the metrics used above only drop 1% after using 5 fold cross validation. This is a good sign that the model is robust and not overfitting the data. \n",
        "\"\"\"\n",
        "from sklearn.model_selection import StratifiedKFold\n",
        "\n",
        "# Encode labels\n",
        "label_encoder = LabelEncoder()\n",
        "df['label'] = label_encoder.fit_transform(df['category'])\n",
        "num_labels = len(label_encoder.classes_)\n",
        "\n",
        "# Text vectorization\n",
        "vectorizer = TfidfVectorizer(stop_words='english')\n",
        "X = vectorizer.fit_transform(df['text'])\n",
        "y = df['label']\n",
        "\n",
        "# Set up Stratified K-Fold Cross Validation\n",
        "kf = StratifiedKFold(n_splits=5)\n",
        "\n",
        "# Variables to store results\n",
        "all_y_true = []\n",
        "all_y_pred = []\n",
        "\n",
        "# Add 'other' to label encoder\n",
        "class_names = list(label_encoder.classes_) + ['other']\n",
        "\n",
        "for train_index, test_index in kf.split(X, y):\n",
        "    # Split the data\n",
        "    X_train, X_val = X[train_index], X[test_index]\n",
        "    y_train, y_val = y[train_index], y[test_index]\n",
        "    \n",
        "    # Train SVM model with calibrated probabilities\n",
        "    log_reg_model = LogisticRegression(max_iter=1000, class_weight = 'balanced')\n",
        "    log_reg_model.fit(X_train, y_train)\n",
        "    calibrated_log_reg = CalibratedClassifierCV(log_reg_model, cv='prefit')\n",
        "    calibrated_log_reg.fit(X_train, y_train)\n",
        "    \n",
        "    # Evaluate model\n",
        "    y_proba = calibrated_log_reg.predict_proba(X_val)\n",
        "    y_pred_log_reg = np.argmax(y_proba, axis=1)\n",
        "    \n",
        "    # Set a confidence threshold\n",
        "    confidence_threshold = 0.35\n",
        "    y_pred_with_other = []\n",
        "    for i, proba in enumerate(y_proba):\n",
        "        max_proba = np.max(proba)\n",
        "        if max_proba < confidence_threshold:\n",
        "            y_pred_with_other.append(num_labels)  # Assign 'other' class\n",
        "        else:\n",
        "            y_pred_with_other.append(y_pred_log_reg[i])\n",
        "    \n",
        "    # Store results\n",
        "    all_y_true.extend(y_val)\n",
        "    all_y_pred.extend(y_pred_with_other)\n",
        "\n",
        "# Print classification report\n",
        "print(\"Log Reg Model with 'other' class:\")\n",
        "print(classification_report(all_y_true, all_y_pred, target_names=class_names, zero_division=0))"
      ]
    },
    {
      "cell_type": "markdown",
      "metadata": {
        "id": "Owk6iwC9-_he"
      },
      "source": [
        "# Other Testing"
      ]
    },
    {
      "cell_type": "code",
      "execution_count": 89,
      "metadata": {
        "colab": {
          "base_uri": "https://localhost:8080/",
          "height": 237
        },
        "id": "7wbHaouL_B6s",
        "outputId": "52f30424-45dd-4800-fc48-ecff3169a692"
      },
      "outputs": [
        {
          "data": {
            "text/html": [
              "<div>\n",
              "<style scoped>\n",
              "    .dataframe tbody tr th:only-of-type {\n",
              "        vertical-align: middle;\n",
              "    }\n",
              "\n",
              "    .dataframe tbody tr th {\n",
              "        vertical-align: top;\n",
              "    }\n",
              "\n",
              "    .dataframe thead th {\n",
              "        text-align: right;\n",
              "    }\n",
              "</style>\n",
              "<table border=\"1\" class=\"dataframe\">\n",
              "  <thead>\n",
              "    <tr style=\"text-align: right;\">\n",
              "      <th></th>\n",
              "      <th>text</th>\n",
              "      <th>category</th>\n",
              "    </tr>\n",
              "  </thead>\n",
              "  <tbody>\n",
              "    <tr>\n",
              "      <th>600</th>\n",
              "      <td>This is a text with nothing to do with a commo...</td>\n",
              "      <td>other</td>\n",
              "    </tr>\n",
              "    <tr>\n",
              "      <th>601</th>\n",
              "      <td>This is a text that have nothing to do with th...</td>\n",
              "      <td>other</td>\n",
              "    </tr>\n",
              "    <tr>\n",
              "      <th>602</th>\n",
              "      <td>The Elmwood District Library has introduced a ...</td>\n",
              "      <td>other</td>\n",
              "    </tr>\n",
              "    <tr>\n",
              "      <th>603</th>\n",
              "      <td>\\nIn the sleepy town of Maple Hollow, an intri...</td>\n",
              "      <td>other</td>\n",
              "    </tr>\n",
              "    <tr>\n",
              "      <th>604</th>\n",
              "      <td>In an inspiring display of community spirit, r...</td>\n",
              "      <td>other</td>\n",
              "    </tr>\n",
              "    <tr>\n",
              "      <th>605</th>\n",
              "      <td>\\nOnce upon a late spring afternoon in the qui...</td>\n",
              "      <td>other</td>\n",
              "    </tr>\n",
              "  </tbody>\n",
              "</table>\n",
              "</div>"
            ],
            "text/plain": [
              "                                                  text category\n",
              "600  This is a text with nothing to do with a commo...    other\n",
              "601  This is a text that have nothing to do with th...    other\n",
              "602  The Elmwood District Library has introduced a ...    other\n",
              "603  \\nIn the sleepy town of Maple Hollow, an intri...    other\n",
              "604  In an inspiring display of community spirit, r...    other\n",
              "605  \\nOnce upon a late spring afternoon in the qui...    other"
            ]
          },
          "execution_count": 89,
          "metadata": {},
          "output_type": "execute_result"
        }
      ],
      "source": [
        "df_other"
      ]
    },
    {
      "cell_type": "code",
      "execution_count": 90,
      "metadata": {
        "colab": {
          "base_uri": "https://localhost:8080/"
        },
        "id": "xTfJXBvO7CiS",
        "outputId": "1b66096e-f6a8-47c1-c205-0ba8e76105ec"
      },
      "outputs": [
        {
          "name": "stdout",
          "output_type": "stream",
          "text": [
            "max_proba ->  0.24432004693611176\n",
            "max_proba ->  0.31161746138672286\n",
            "max_proba ->  0.32361032205500073\n",
            "\n",
            "In the sleepy town of Maple Hollow, an intriguing tradition captured the hearts of its residents every autumn. It was the time of the annual Leaf Race, a quirky but beloved event where the townspeople gathered along the banks of the gently flowing Willow Creek to witness a spectacle dictated not by speed, but by the whims of the wind and water.\n",
            "\n",
            "The event was simple yet captivating: participants would choose a fallen leaf from the multitude of red, gold, and orange that blanketed the town, each hoping their selection had the magic touch. At noon, a bell would ring from the old clock tower, echoing through the crisp autumn air, signaling the start of the race.\n",
            "\n",
            "Young and old lined the creek, holding their breath as the leaves were gently placed on the water at the starting line, marked by a string of twine stretched across the creek. The current was slow, and the wind was a fickle ally, making every race unpredictable and exciting.\n",
            "\n",
            "As the leaves began their slow journey downstream, cheered on by the crowd, bets were made, and favorites were loudly supported. Children ran alongside the creek, their eyes wide with excitement, following their champion leaves as they bobbed and weaved through the water.\n",
            "\n",
            "Old Mr. Fletcher, the town's unofficial historian, would recount tales from previous races, including the legendary 'Great Drift' of '85, when a single leaf had circled in an eddy for over an hour before finally crossing the finish line, much to the delight of the patient crowd.\n",
            "\n",
            "The race was more than just a competition; it was a celebration of change and the beauty of nature’s cycles. The finish line was near the old wooden bridge, where the town mayor awaited with a handmade trophy, crafted each year by a local artist. This trophy, a wooden leaf painted with the year and adorned with a swirl of colors, represented the spirit of Maple Hollow.\n",
            "\n",
            "confidence:  0.6321526437469551\n",
            "pred class:  8\n",
            "guessed class:  sport\n",
            "\n",
            "\n",
            "max_proba ->  0.27976567921140516\n",
            "max_proba ->  0.30715680633164666\n"
          ]
        }
      ],
      "source": [
        "\"\"\"\n",
        "The code below runs the trained model on the 'other' directory. 4/5 are correctly predicted as well as the max confidence threhold.\n",
        "Looking closer at the misclassified example, it is describing a race which is understandable that the model would classify it as 'sport' instead of 'other'.\n",
        "\"\"\"\n",
        "# Use same vecotrizer and model to predict on the 'other' examples\n",
        "other_X = vectorizer.transform(df_other['text'])\n",
        "y_other_proba = calibrated_svm.predict_proba(other_X)\n",
        "\n",
        "# For each prediction, pull out the max probability and check if above the threshold\n",
        "y_pred_other = np.argmax(y_other_proba, axis=1)\n",
        "for j, proba in enumerate(y_other_proba):\n",
        "  max_proba = np.max(proba)\n",
        "  if max_proba > 0.35:\n",
        "    print(df_other.iloc[j]['text'])\n",
        "    print('\\nconfidence: ', max_proba)\n",
        "    print('pred class: ', y_pred_other[j])\n",
        "    print('guessed class: ', label_encoder.classes_[y_pred_other[j]])\n",
        "    print('\\n')\n",
        "  else:\n",
        "    print('max_proba -> ', max_proba)"
      ]
    }
  ],
  "metadata": {
    "colab": {
      "gpuType": "T4",
      "provenance": []
    },
    "kernelspec": {
      "display_name": "Python 3",
      "name": "python3"
    },
    "language_info": {
      "codemirror_mode": {
        "name": "ipython",
        "version": 3
      },
      "file_extension": ".py",
      "mimetype": "text/x-python",
      "name": "python",
      "nbconvert_exporter": "python",
      "pygments_lexer": "ipython3",
      "version": "3.9.1"
    }
  },
  "nbformat": 4,
  "nbformat_minor": 0
}
